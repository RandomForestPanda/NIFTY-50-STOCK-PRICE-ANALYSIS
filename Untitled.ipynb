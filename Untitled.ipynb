{
 "cells": [
  {
   "cell_type": "code",
   "execution_count": 2,
   "id": "3393aa2d-cfcc-48f6-982a-347098f04084",
   "metadata": {},
   "outputs": [],
   "source": [
    "import pyspark"
   ]
  },
  {
   "cell_type": "code",
   "execution_count": 4,
   "id": "e24339b2-a14f-40a3-b716-615b6fc56a1b",
   "metadata": {},
   "outputs": [],
   "source": [
    "from pyspark.sql import SparkSession\n"
   ]
  },
  {
   "cell_type": "code",
   "execution_count": 5,
   "id": "c0f19c57-f1ba-4f42-b842-e3ada4533279",
   "metadata": {},
   "outputs": [
    {
     "name": "stderr",
     "output_type": "stream",
     "text": [
      "24/07/13 16:57:46 WARN Utils: Your hostname, VamVishs-MacBook-air.local resolves to a loopback address: 127.0.0.1; using 192.168.1.2 instead (on interface en0)\n",
      "24/07/13 16:57:46 WARN Utils: Set SPARK_LOCAL_IP if you need to bind to another address\n",
      "Setting default log level to \"WARN\".\n",
      "To adjust logging level use sc.setLogLevel(newLevel). For SparkR, use setLogLevel(newLevel).\n",
      "24/07/13 16:57:47 WARN NativeCodeLoader: Unable to load native-hadoop library for your platform... using builtin-java classes where applicable\n"
     ]
    }
   ],
   "source": [
    "spark=SparkSession.builder.appName(\"stock analysis\").getOrCreate()"
   ]
  },
  {
   "cell_type": "code",
   "execution_count": 36,
   "id": "86ad9942-78a9-4862-826f-2ed5cd1c20a2",
   "metadata": {},
   "outputs": [],
   "source": [
    "nifty50_stocks=spark.read.csv(\"/Users/vamshivishruthj/Downloads/nifty50_ds\",header=True)\n",
    "# type(nifty50_stocks)"
   ]
  },
  {
   "cell_type": "code",
   "execution_count": 7,
   "id": "9a8b9210-0186-4abf-ab94-d88cc0339dc2",
   "metadata": {},
   "outputs": [
    {
     "name": "stdout",
     "output_type": "stream",
     "text": [
      "+----------+----------+------+----------+------+------+-----+-----+------+------+--------+------------------+------+------------------+-----------+\n",
      "|      Date|    Symbol|Series|Prev Close|  Open|  High|  Low| Last| Close|  VWAP|  Volume|          Turnover|Trades|Deliverable Volume|%Deliverble|\n",
      "+----------+----------+------+----------+------+------+-----+-----+------+------+--------+------------------+------+------------------+-----------+\n",
      "|2007-11-27|MUNDRAPORT|    EQ|     440.0| 770.0|1050.0|770.0|959.0| 962.9|984.72|27294366|2687719053785000.0|  NULL|         9859619.0|     0.3612|\n",
      "|2007-11-28|MUNDRAPORT|    EQ|     962.9| 984.0| 990.0|874.0|885.0| 893.9|941.38| 4581338| 431276530165000.0|  NULL|         1453278.0|     0.3172|\n",
      "|2007-11-29|MUNDRAPORT|    EQ|     893.9| 909.0|914.75|841.0|887.0| 884.2|888.09| 5124121| 455065846265000.0|  NULL|         1069678.0|     0.2088|\n",
      "|2007-11-30|MUNDRAPORT|    EQ|     884.2| 890.0| 958.0|890.0|929.0|921.55|929.17| 4609762| 428325662830000.0|  NULL|         1260913.0|     0.2735|\n",
      "|2007-12-03|MUNDRAPORT|    EQ|    921.55|939.75| 995.0|922.0|980.0| 969.3|965.65| 2977470| 287519974300000.0|  NULL|          816123.0|     0.2741|\n",
      "+----------+----------+------+----------+------+------+-----+-----+------+------+--------+------------------+------+------------------+-----------+\n",
      "only showing top 5 rows\n",
      "\n"
     ]
    }
   ],
   "source": [
    "nifty50_stocks.show(5)"
   ]
  },
  {
   "cell_type": "code",
   "execution_count": 8,
   "id": "2186f1cc-1fc6-489f-b765-4d27f734e143",
   "metadata": {},
   "outputs": [
    {
     "name": "stdout",
     "output_type": "stream",
     "text": [
      "root\n",
      " |-- Date: string (nullable = true)\n",
      " |-- Symbol: string (nullable = true)\n",
      " |-- Series: string (nullable = true)\n",
      " |-- Prev Close: string (nullable = true)\n",
      " |-- Open: string (nullable = true)\n",
      " |-- High: string (nullable = true)\n",
      " |-- Low: string (nullable = true)\n",
      " |-- Last: string (nullable = true)\n",
      " |-- Close: string (nullable = true)\n",
      " |-- VWAP: string (nullable = true)\n",
      " |-- Volume: string (nullable = true)\n",
      " |-- Turnover: string (nullable = true)\n",
      " |-- Trades: string (nullable = true)\n",
      " |-- Deliverable Volume: string (nullable = true)\n",
      " |-- %Deliverble: string (nullable = true)\n",
      "\n"
     ]
    }
   ],
   "source": [
    "nifty50_stocks.printSchema()                    # checking the data types of each of the columns, useful for conversions if necessary at a later stage"
   ]
  },
  {
   "cell_type": "code",
   "execution_count": 9,
   "id": "ea0eee0e-e18c-40bd-a4cd-c137ab94626f",
   "metadata": {},
   "outputs": [
    {
     "name": "stdout",
     "output_type": "stream",
     "text": [
      "+----------+------+----------+\n",
      "|      Date|Series|    Symbol|\n",
      "+----------+------+----------+\n",
      "|2007-11-27|    EQ|MUNDRAPORT|\n",
      "|2007-11-28|    EQ|MUNDRAPORT|\n",
      "|2007-11-29|    EQ|MUNDRAPORT|\n",
      "|2007-11-30|    EQ|MUNDRAPORT|\n",
      "|2007-12-03|    EQ|MUNDRAPORT|\n",
      "|2007-12-04|    EQ|MUNDRAPORT|\n",
      "|2007-12-05|    EQ|MUNDRAPORT|\n",
      "|2007-12-06|    EQ|MUNDRAPORT|\n",
      "|2007-12-07|    EQ|MUNDRAPORT|\n",
      "|2007-12-10|    EQ|MUNDRAPORT|\n",
      "|2007-12-11|    EQ|MUNDRAPORT|\n",
      "|2007-12-12|    EQ|MUNDRAPORT|\n",
      "|2007-12-13|    EQ|MUNDRAPORT|\n",
      "|2007-12-14|    EQ|MUNDRAPORT|\n",
      "|2007-12-17|    EQ|MUNDRAPORT|\n",
      "|2007-12-18|    EQ|MUNDRAPORT|\n",
      "|2007-12-19|    EQ|MUNDRAPORT|\n",
      "|2007-12-20|    EQ|MUNDRAPORT|\n",
      "|2007-12-24|    EQ|MUNDRAPORT|\n",
      "|2007-12-26|    EQ|MUNDRAPORT|\n",
      "+----------+------+----------+\n",
      "only showing top 20 rows\n",
      "\n"
     ]
    }
   ],
   "source": [
    "nifty50_stocks.select([\"Date\",\"Series\",\"Symbol\"]).show()"
   ]
  },
  {
   "cell_type": "code",
   "execution_count": 10,
   "id": "97a87659-425b-405f-ac51-b316a20b821c",
   "metadata": {},
   "outputs": [
    {
     "name": "stdout",
     "output_type": "stream",
     "text": [
      "+----------+-------+------+----------+-------+-------+-------+-------+-------+-------+------+-----------------+------+------------------+-----------+\n",
      "|      Date| Symbol|Series|Prev Close|   Open|   High|    Low|   Last|  Close|   VWAP|Volume|         Turnover|Trades|Deliverable Volume|%Deliverble|\n",
      "+----------+-------+------+----------+-------+-------+-------+-------+-------+-------+------+-----------------+------+------------------+-----------+\n",
      "|2000-01-03|DRREDDY|    EQ|    1396.5| 1505.0|1508.25| 1505.0|1508.25|1508.25|1508.21| 13280|  2002904375000.0|  NULL|              NULL|       NULL|\n",
      "|2000-01-04|DRREDDY|    EQ|   1508.25| 1590.0|1628.95| 1510.0|1628.95|1628.95|1579.29| 57142|  9024404910000.0|  NULL|              NULL|       NULL|\n",
      "|2000-01-05|DRREDDY|    EQ|   1628.95| 1549.0| 1650.0| 1499.0| 1566.0|1568.05|1594.99|119697| 19091553600000.0|  NULL|              NULL|       NULL|\n",
      "|2000-01-06|DRREDDY|    EQ|   1568.05| 1599.0| 1693.5| 1571.0| 1693.5|1661.55|1632.11|121966| 19906246590000.0|  NULL|              NULL|       NULL|\n",
      "|2000-01-07|DRREDDY|    EQ|   1661.55| 1685.0| 1685.0|1528.65|1528.65| 1529.1|1585.24| 79641| 12624973610000.0|  NULL|              NULL|       NULL|\n",
      "|2000-01-10|DRREDDY|    EQ|    1529.1| 1560.0| 1560.0| 1407.5| 1502.0| 1503.9|1503.84| 62612|  9415849660000.0|  NULL|              NULL|       NULL|\n",
      "|2000-01-11|DRREDDY|    EQ|    1503.9| 1512.0| 1529.0| 1384.0| 1436.0| 1446.6|1449.71| 89184| 12929137705000.0|  NULL|              NULL|       NULL|\n",
      "|2000-01-12|DRREDDY|    EQ|    1446.6| 1460.0| 1540.0| 1460.0|1486.05| 1490.9| 1496.5| 31611|  4730600895000.0|  NULL|              NULL|       NULL|\n",
      "|2000-01-13|DRREDDY|    EQ|    1490.9| 1485.0| 1545.0| 1461.0|1470.05|1477.45|1511.43| 39753|  6008397020000.0|  NULL|              NULL|       NULL|\n",
      "|2000-01-14|DRREDDY|    EQ|   1477.45|1470.05| 1510.0| 1412.0|1486.45| 1473.5|1458.08| 46272|6746848115000.001|  NULL|              NULL|       NULL|\n",
      "+----------+-------+------+----------+-------+-------+-------+-------+-------+-------+------+-----------------+------+------------------+-----------+\n",
      "only showing top 10 rows\n",
      "\n"
     ]
    },
    {
     "name": "stderr",
     "output_type": "stream",
     "text": [
      "24/07/13 16:57:58 WARN GarbageCollectionMetrics: To enable non-built-in garbage collector(s) List(G1 Concurrent GC), users should configure it(them) to spark.eventLog.gcMetrics.youngGenerationGarbageCollectors or spark.eventLog.gcMetrics.oldGenerationGarbageCollectors\n"
     ]
    }
   ],
   "source": [
    "nifty50_stocks.filter(nifty50_stocks.Symbol==\"DRREDDY\").show(10)  # selecting DRREDDY STOCKS, TOP 10 RESULTS"
   ]
  },
  {
   "cell_type": "code",
   "execution_count": 11,
   "id": "17537e81-9619-41d8-984f-9c173d5a046f",
   "metadata": {},
   "outputs": [
    {
     "name": "stdout",
     "output_type": "stream",
     "text": [
      "+----------+----------+------+----------+------+------+-------+------+-------+-------+--------+-----------------+--------+------------------+-------------------+\n",
      "|      Date|    Symbol|Series|Prev Close|  Open|  High|    Low|  Last|  Close|   VWAP|  Volume|         Turnover|  Trades|Deliverable Volume|        %Deliverble|\n",
      "+----------+----------+------+----------+------+------+-------+------+-------+-------+--------+-----------------+--------+------------------+-------------------+\n",
      "|2021-01-01|ADANIPORTS|    EQ|    483.75| 485.0| 508.0| 482.55| 505.0| 503.85| 495.57| 7815730|387323442590000.0| 79171.0|          834159.0|             0.1067|\n",
      "|2021-01-01|ASIANPAINT|    EQ|    2764.5|2759.0|2792.0| 2750.0|2770.1|2775.55|2774.59| 1246698|345907459440000.0| 44528.0|           95779.0|             0.0768|\n",
      "|2021-01-01|  AXISBANK|    EQ|    620.45|620.25|625.45| 617.55| 623.4|  623.8| 622.15| 6047062|376220233605000.0| 84795.0|         1473702.0|0.24370000000000006|\n",
      "|2021-01-01|BAJAJ-AUTO|    EQ|   3444.05|3446.0|3494.0| 3446.0|3479.0|3481.25|3468.09|  421643|146229399570000.0| 23426.0|           69494.0|             0.1648|\n",
      "|2021-01-01|BAJAJFINSV|    EQ|   8906.35|8930.0|8958.7| 8840.0|8870.2|8870.45| 8900.4|  288101|256421546520000.0| 23360.0|           59708.0|             0.2072|\n",
      "|2021-01-01|BAJFINANCE|    EQ|    5295.2|5310.2|5338.0| 5250.0|5272.0|5280.15|5302.83| 1447187|767418375710000.0| 74896.0|          247821.0|0.17120000000000002|\n",
      "|2021-01-01|BHARTIARTL|    EQ|     509.7|512.25| 516.4|  508.2| 515.0| 515.15| 511.92|10185843|521435897020000.0|115803.0|         2857212.0|             0.2805|\n",
      "|2021-01-01|      BPCL|    EQ|     381.1| 381.1| 384.0|  380.4| 382.5| 381.95| 382.47| 2861749|109454165255000.0| 34802.0|          900779.0|             0.3148|\n",
      "|2021-01-01| BRITANNIA|    EQ|   3576.35|3575.0|3605.0|3563.05|3573.0| 3567.8|3578.02|  453083|162113959825000.0| 27548.0|          189208.0|             0.4176|\n",
      "|2021-01-01|     CIPLA|    EQ|    819.95| 822.8|828.95| 820.65| 827.3|  826.6| 826.17| 2474916|204469233290000.0| 44615.0|          359704.0|0.14529999999999998|\n",
      "+----------+----------+------+----------+------+------+-------+------+-------+-------+--------+-----------------+--------+------------------+-------------------+\n",
      "only showing top 10 rows\n",
      "\n"
     ]
    }
   ],
   "source": [
    "nifty50_stocks.filter(nifty50_stocks.Date==\"2021-01-01\").show(10)  #selecting stocks from a particular date (here: 1st Jan 2021)"
   ]
  },
  {
   "cell_type": "code",
   "execution_count": 12,
   "id": "df1ec127-0bcd-4d8b-b36d-870e4ba52cbd",
   "metadata": {},
   "outputs": [
    {
     "name": "stdout",
     "output_type": "stream",
     "text": [
      "+----------+-------+------+----------+-------+-------+------+------+-------+-------+------+-----------------+-------+------------------+-------------------+\n",
      "|      Date| Symbol|Series|Prev Close|   Open|   High|   Low|  Last|  Close|   VWAP|Volume|         Turnover| Trades|Deliverable Volume|        %Deliverble|\n",
      "+----------+-------+------+----------+-------+-------+------+------+-------+-------+------+-----------------+-------+------------------+-------------------+\n",
      "|2021-01-01|DRREDDY|    EQ|    5205.1|5217.25|5254.85|5200.0|5233.0|5241.35|5232.78|583043|305093388925000.0|34946.0|           75016.0|0.12869999999999998|\n",
      "|2021-01-01|DRREDDY|    EQ|    5205.1|5217.25|5254.85|5200.0|5233.0|5241.35|5232.78|583043|305093388925000.0|34946.0|           75016.0|0.12869999999999998|\n",
      "+----------+-------+------+----------+-------+-------+------+------+-------+-------+------+-----------------+-------+------------------+-------------------+\n",
      "\n"
     ]
    },
    {
     "name": "stderr",
     "output_type": "stream",
     "text": [
      "24/07/13 16:58:04 WARN CSVHeaderChecker: Number of column in CSV header is not equal to number of fields in the schema:\n",
      " Header length: 5, schema size: 15\n",
      "CSV file: file:///Users/vamshivishruthj/Downloads/nifty50_ds/stock_metadata.csv\n"
     ]
    }
   ],
   "source": [
    "nifty50_stocks.filter((nifty50_stocks.Date==\"2021-01-01\") & (nifty50_stocks.Symbol==\"DRREDDY\")).show()    #selecting stocks from a particular company on a particular date"
   ]
  },
  {
   "cell_type": "code",
   "execution_count": 18,
   "id": "7aa6dbeb-36b8-43f1-800f-05ecaaf03a83",
   "metadata": {},
   "outputs": [],
   "source": [
    "#USER DEFINED FUNCTIONS: EX PARSING A DATE\n",
    "\n",
    "from pyspark.sql.functions import udf\n",
    "from pyspark.sql.types import DateType\n"
   ]
  },
  {
   "cell_type": "code",
   "execution_count": 19,
   "id": "a086642c-2d41-4d8c-a5c3-15e732a65449",
   "metadata": {},
   "outputs": [],
   "source": [
    "from datetime import datetime"
   ]
  },
  {
   "cell_type": "code",
   "execution_count": 31,
   "id": "16ae3ce0-1f2a-49db-aee3-79e801c658c6",
   "metadata": {},
   "outputs": [],
   "source": [
    "date_parser= udf(lambda date: datetime.strptime(date,\"%Y-%m-%d\"),DateType() )"
   ]
  },
  {
   "cell_type": "code",
   "execution_count": 44,
   "id": "c21b2399-58f1-409c-9e97-addcf1f24b46",
   "metadata": {},
   "outputs": [],
   "source": [
    "# df.withColumn futn can be used to add new columns to a datframe based on conditions or processing of previously existing columns,apply transformations to existing coulmns,change data type of existing coulmns\n",
    "stocks=nifty50_stocks.withColumn(\"ParsedDate\",date_parser(nifty50_stocks.Date))  #new col is named parsedDate and the transformation applied is the single line code performed by dateparser "
   ]
  },
  {
   "cell_type": "code",
   "execution_count": 47,
   "id": "cb42537c-792b-4a35-86af-0052a73ae34b",
   "metadata": {},
   "outputs": [
    {
     "name": "stdout",
     "output_type": "stream",
     "text": [
      "+----------+----------+------+----------+------+------+-----+-----+------+------+--------+------------------+------+------------------+-----------+----------+\n",
      "|      Date|    Symbol|Series|Prev Close|  Open|  High|  Low| Last| Close|  VWAP|  Volume|          Turnover|Trades|Deliverable Volume|%Deliverble|ParsedDate|\n",
      "+----------+----------+------+----------+------+------+-----+-----+------+------+--------+------------------+------+------------------+-----------+----------+\n",
      "|2007-11-27|MUNDRAPORT|    EQ|     440.0| 770.0|1050.0|770.0|959.0| 962.9|984.72|27294366|2687719053785000.0|  NULL|         9859619.0|     0.3612|2007-11-27|\n",
      "|2007-11-28|MUNDRAPORT|    EQ|     962.9| 984.0| 990.0|874.0|885.0| 893.9|941.38| 4581338| 431276530165000.0|  NULL|         1453278.0|     0.3172|2007-11-28|\n",
      "|2007-11-29|MUNDRAPORT|    EQ|     893.9| 909.0|914.75|841.0|887.0| 884.2|888.09| 5124121| 455065846265000.0|  NULL|         1069678.0|     0.2088|2007-11-29|\n",
      "|2007-11-30|MUNDRAPORT|    EQ|     884.2| 890.0| 958.0|890.0|929.0|921.55|929.17| 4609762| 428325662830000.0|  NULL|         1260913.0|     0.2735|2007-11-30|\n",
      "|2007-12-03|MUNDRAPORT|    EQ|    921.55|939.75| 995.0|922.0|980.0| 969.3|965.65| 2977470| 287519974300000.0|  NULL|          816123.0|     0.2741|2007-12-03|\n",
      "+----------+----------+------+----------+------+------+-----+-----+------+------+--------+------------------+------+------------------+-----------+----------+\n",
      "only showing top 5 rows\n",
      "\n"
     ]
    }
   ],
   "source": [
    "stocks.show(5)"
   ]
  },
  {
   "cell_type": "code",
   "execution_count": 48,
   "id": "ab7015d1-9a04-4a9b-a669-e29b21262a55",
   "metadata": {},
   "outputs": [],
   "source": [
    "def num_parser(value):\n",
    "    if isinstance(value,str):\n",
    "        return float(value.strip(\"$\"))\n",
    "    el"
   ]
  },
  {
   "cell_type": "code",
   "execution_count": null,
   "id": "16c07ce7-f4eb-4851-a856-d50cf312f216",
   "metadata": {},
   "outputs": [],
   "source": []
  }
 ],
 "metadata": {
  "kernelspec": {
   "display_name": "Python 3 (ipykernel)",
   "language": "python",
   "name": "python3"
  },
  "language_info": {
   "codemirror_mode": {
    "name": "ipython",
    "version": 3
   },
   "file_extension": ".py",
   "mimetype": "text/x-python",
   "name": "python",
   "nbconvert_exporter": "python",
   "pygments_lexer": "ipython3",
   "version": "3.11.7"
  }
 },
 "nbformat": 4,
 "nbformat_minor": 5
}
